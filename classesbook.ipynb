{
 "cells": [
  {
   "cell_type": "code",
   "execution_count": 22,
   "metadata": {},
   "outputs": [],
   "source": [
    "import pandas as pd\n",
    "import numpy as np\n",
    "import torch\n",
    "import torch.nn as nn\n",
    "import seaborn as sns"
   ]
  },
  {
   "cell_type": "code",
   "execution_count": 58,
   "metadata": {},
   "outputs": [
    {
     "data": {
      "text/html": [
       "<div>\n",
       "<style scoped>\n",
       "    .dataframe tbody tr th:only-of-type {\n",
       "        vertical-align: middle;\n",
       "    }\n",
       "\n",
       "    .dataframe tbody tr th {\n",
       "        vertical-align: top;\n",
       "    }\n",
       "\n",
       "    .dataframe thead th {\n",
       "        text-align: right;\n",
       "    }\n",
       "</style>\n",
       "<table border=\"1\" class=\"dataframe\">\n",
       "  <thead>\n",
       "    <tr style=\"text-align: right;\">\n",
       "      <th></th>\n",
       "      <th>Temperature (K)</th>\n",
       "      <th>Luminosity(L/Lo)</th>\n",
       "      <th>Radius(R/Ro)</th>\n",
       "      <th>Absolute magnitude(Mv)</th>\n",
       "      <th>Star type</th>\n",
       "      <th>Star color</th>\n",
       "      <th>Spectral Class</th>\n",
       "    </tr>\n",
       "  </thead>\n",
       "  <tbody>\n",
       "    <tr>\n",
       "      <th>0</th>\n",
       "      <td>3068</td>\n",
       "      <td>0.002400</td>\n",
       "      <td>0.1700</td>\n",
       "      <td>16.12</td>\n",
       "      <td>0</td>\n",
       "      <td>Red</td>\n",
       "      <td>M</td>\n",
       "    </tr>\n",
       "    <tr>\n",
       "      <th>1</th>\n",
       "      <td>3042</td>\n",
       "      <td>0.000500</td>\n",
       "      <td>0.1542</td>\n",
       "      <td>16.60</td>\n",
       "      <td>0</td>\n",
       "      <td>Red</td>\n",
       "      <td>M</td>\n",
       "    </tr>\n",
       "    <tr>\n",
       "      <th>2</th>\n",
       "      <td>2600</td>\n",
       "      <td>0.000300</td>\n",
       "      <td>0.1020</td>\n",
       "      <td>18.70</td>\n",
       "      <td>0</td>\n",
       "      <td>Red</td>\n",
       "      <td>M</td>\n",
       "    </tr>\n",
       "    <tr>\n",
       "      <th>3</th>\n",
       "      <td>2800</td>\n",
       "      <td>0.000200</td>\n",
       "      <td>0.1600</td>\n",
       "      <td>16.65</td>\n",
       "      <td>0</td>\n",
       "      <td>Red</td>\n",
       "      <td>M</td>\n",
       "    </tr>\n",
       "    <tr>\n",
       "      <th>4</th>\n",
       "      <td>1939</td>\n",
       "      <td>0.000138</td>\n",
       "      <td>0.1030</td>\n",
       "      <td>20.06</td>\n",
       "      <td>0</td>\n",
       "      <td>Red</td>\n",
       "      <td>M</td>\n",
       "    </tr>\n",
       "  </tbody>\n",
       "</table>\n",
       "</div>"
      ],
      "text/plain": [
       "   Temperature (K)  Luminosity(L/Lo)  Radius(R/Ro)  Absolute magnitude(Mv)  \\\n",
       "0             3068          0.002400        0.1700                   16.12   \n",
       "1             3042          0.000500        0.1542                   16.60   \n",
       "2             2600          0.000300        0.1020                   18.70   \n",
       "3             2800          0.000200        0.1600                   16.65   \n",
       "4             1939          0.000138        0.1030                   20.06   \n",
       "\n",
       "   Star type Star color Spectral Class  \n",
       "0          0        Red              M  \n",
       "1          0        Red              M  \n",
       "2          0        Red              M  \n",
       "3          0        Red              M  \n",
       "4          0        Red              M  "
      ]
     },
     "execution_count": 58,
     "metadata": {},
     "output_type": "execute_result"
    }
   ],
   "source": [
    "df = pd.read_csv('classes.csv')\n",
    "df.dropna()\n",
    "df.head()"
   ]
  },
  {
   "cell_type": "code",
   "execution_count": 59,
   "metadata": {},
   "outputs": [],
   "source": [
    "df = pd.get_dummies(df, dtype = 'float')"
   ]
  },
  {
   "cell_type": "code",
   "execution_count": 63,
   "metadata": {},
   "outputs": [
    {
     "data": {
      "text/html": [
       "<style type=\"text/css\">\n",
       "#T_61ca9_row0_col0, #T_61ca9_row1_col1, #T_61ca9_row2_col2, #T_61ca9_row3_col3 {\n",
       "  background-color: #b40426;\n",
       "  color: #f1f1f1;\n",
       "}\n",
       "#T_61ca9_row0_col1, #T_61ca9_row0_col2, #T_61ca9_row0_col3, #T_61ca9_row2_col0 {\n",
       "  background-color: #3b4cc0;\n",
       "  color: #f1f1f1;\n",
       "}\n",
       "#T_61ca9_row1_col0 {\n",
       "  background-color: #b1cbfc;\n",
       "  color: #000000;\n",
       "}\n",
       "#T_61ca9_row1_col2 {\n",
       "  background-color: #dbdcde;\n",
       "  color: #000000;\n",
       "}\n",
       "#T_61ca9_row1_col3 {\n",
       "  background-color: #cfdaea;\n",
       "  color: #000000;\n",
       "}\n",
       "#T_61ca9_row2_col1 {\n",
       "  background-color: #82a6fb;\n",
       "  color: #f1f1f1;\n",
       "}\n",
       "#T_61ca9_row2_col3 {\n",
       "  background-color: #c7d7f0;\n",
       "  color: #000000;\n",
       "}\n",
       "#T_61ca9_row3_col0 {\n",
       "  background-color: #b6cefa;\n",
       "  color: #000000;\n",
       "}\n",
       "#T_61ca9_row3_col1 {\n",
       "  background-color: #d4dbe6;\n",
       "  color: #000000;\n",
       "}\n",
       "#T_61ca9_row3_col2 {\n",
       "  background-color: #f5c0a7;\n",
       "  color: #000000;\n",
       "}\n",
       "</style>\n",
       "<table id=\"T_61ca9\">\n",
       "  <thead>\n",
       "    <tr>\n",
       "      <th class=\"blank level0\" >&nbsp;</th>\n",
       "      <th id=\"T_61ca9_level0_col0\" class=\"col_heading level0 col0\" >Temperature (K)</th>\n",
       "      <th id=\"T_61ca9_level0_col1\" class=\"col_heading level0 col1\" >Luminosity(L/Lo)</th>\n",
       "      <th id=\"T_61ca9_level0_col2\" class=\"col_heading level0 col2\" >Radius(R/Ro)</th>\n",
       "      <th id=\"T_61ca9_level0_col3\" class=\"col_heading level0 col3\" >Star type</th>\n",
       "    </tr>\n",
       "  </thead>\n",
       "  <tbody>\n",
       "    <tr>\n",
       "      <th id=\"T_61ca9_level0_row0\" class=\"row_heading level0 row0\" >Temperature (K)</th>\n",
       "      <td id=\"T_61ca9_row0_col0\" class=\"data row0 col0\" >1.000000</td>\n",
       "      <td id=\"T_61ca9_row0_col1\" class=\"data row0 col1\" >0.393404</td>\n",
       "      <td id=\"T_61ca9_row0_col2\" class=\"data row0 col2\" >0.064216</td>\n",
       "      <td id=\"T_61ca9_row0_col3\" class=\"data row0 col3\" >0.411129</td>\n",
       "    </tr>\n",
       "    <tr>\n",
       "      <th id=\"T_61ca9_level0_row1\" class=\"row_heading level0 row1\" >Luminosity(L/Lo)</th>\n",
       "      <td id=\"T_61ca9_row1_col0\" class=\"data row1 col0\" >0.393404</td>\n",
       "      <td id=\"T_61ca9_row1_col1\" class=\"data row1 col1\" >1.000000</td>\n",
       "      <td id=\"T_61ca9_row1_col2\" class=\"data row1 col2\" >0.526516</td>\n",
       "      <td id=\"T_61ca9_row1_col3\" class=\"data row1 col3\" >0.676845</td>\n",
       "    </tr>\n",
       "    <tr>\n",
       "      <th id=\"T_61ca9_level0_row2\" class=\"row_heading level0 row2\" >Radius(R/Ro)</th>\n",
       "      <td id=\"T_61ca9_row2_col0\" class=\"data row2 col0\" >0.064216</td>\n",
       "      <td id=\"T_61ca9_row2_col1\" class=\"data row2 col1\" >0.526516</td>\n",
       "      <td id=\"T_61ca9_row2_col2\" class=\"data row2 col2\" >1.000000</td>\n",
       "      <td id=\"T_61ca9_row2_col3\" class=\"data row2 col3\" >0.660975</td>\n",
       "    </tr>\n",
       "    <tr>\n",
       "      <th id=\"T_61ca9_level0_row3\" class=\"row_heading level0 row3\" >Star type</th>\n",
       "      <td id=\"T_61ca9_row3_col0\" class=\"data row3 col0\" >0.411129</td>\n",
       "      <td id=\"T_61ca9_row3_col1\" class=\"data row3 col1\" >0.676845</td>\n",
       "      <td id=\"T_61ca9_row3_col2\" class=\"data row3 col2\" >0.660975</td>\n",
       "      <td id=\"T_61ca9_row3_col3\" class=\"data row3 col3\" >1.000000</td>\n",
       "    </tr>\n",
       "  </tbody>\n",
       "</table>\n"
      ],
      "text/plain": [
       "<pandas.io.formats.style.Styler at 0x1522b1d10>"
      ]
     },
     "execution_count": 63,
     "metadata": {},
     "output_type": "execute_result"
    }
   ],
   "source": [
    "corr = df.corr()\n",
    "corr.style.background_gradient(cmap ='coolwarm') "
   ]
  },
  {
   "cell_type": "code",
   "execution_count": 61,
   "metadata": {
    "scrolled": true
   },
   "outputs": [
    {
     "data": {
      "text/plain": [
       "Index(['Temperature (K)', 'Luminosity(L/Lo)', 'Radius(R/Ro)',\n",
       "       'Absolute magnitude(Mv)', 'Star type', 'Star color_Blue',\n",
       "       'Star color_Blue ', 'Star color_Blue White', 'Star color_Blue white',\n",
       "       'Star color_Blue white ', 'Star color_Blue-White',\n",
       "       'Star color_Blue-white', 'Star color_Orange', 'Star color_Orange-Red',\n",
       "       'Star color_Pale yellow orange', 'Star color_Red', 'Star color_White',\n",
       "       'Star color_White-Yellow', 'Star color_Whitish', 'Star color_Yellowish',\n",
       "       'Star color_Yellowish White', 'Star color_white',\n",
       "       'Star color_yellow-white', 'Star color_yellowish', 'Spectral Class_A',\n",
       "       'Spectral Class_B', 'Spectral Class_F', 'Spectral Class_G',\n",
       "       'Spectral Class_K', 'Spectral Class_M', 'Spectral Class_O'],\n",
       "      dtype='object')"
      ]
     },
     "execution_count": 61,
     "metadata": {},
     "output_type": "execute_result"
    }
   ],
   "source": [
    "df.columns"
   ]
  },
  {
   "cell_type": "code",
   "execution_count": 62,
   "metadata": {},
   "outputs": [],
   "source": [
    "df = df.drop(['Star color_Blue', 'Star color_Blue ', 'Star color_Blue White', 'Star color_Blue white', \n",
    "              'Star color_Blue white ', 'Star color_Blue-White', 'Star color_Blue-white', 'Star color_Orange', \n",
    "              'Star color_Orange-Red', 'Star color_Pale yellow orange', 'Star color_Red', 'Star color_White', \n",
    "              'Star color_White-Yellow', 'Star color_Whitish', 'Star color_Yellowish', 'Star color_Yellowish White', \n",
    "              'Star color_white', 'Star color_yellow-white', 'Star color_yellowish', 'Spectral Class_A',\n",
    "              'Spectral Class_B', 'Spectral Class_F', 'Spectral Class_G', 'Spectral Class_K', 'Spectral Class_M', \n",
    "              'Spectral Class_O','Absolute magnitude(Mv)'], axis=1)"
   ]
  },
  {
   "cell_type": "code",
   "execution_count": 67,
   "metadata": {},
   "outputs": [],
   "source": [
    "X = df.loc[:, df.columns != 'Star type']\n",
    "y = df['Star type']"
   ]
  },
  {
   "cell_type": "code",
   "execution_count": 68,
   "metadata": {},
   "outputs": [],
   "source": [
    "XL = np.array(X)\n",
    "YL = np.array(y)\n",
    "X_tensor = torch.from_numpy(XL).float()\n",
    "Y_tensor = torch.from_numpy(YL).long()"
   ]
  },
  {
   "cell_type": "code",
   "execution_count": 69,
   "metadata": {},
   "outputs": [
    {
     "ename": "NameError",
     "evalue": "name 'myneualnetwork' is not defined",
     "output_type": "error",
     "traceback": [
      "\u001b[0;31m---------------------------------------------------------------------------\u001b[0m",
      "\u001b[0;31mNameError\u001b[0m                                 Traceback (most recent call last)",
      "Cell \u001b[0;32mIn[69], line 1\u001b[0m\n\u001b[0;32m----> 1\u001b[0m \u001b[38;5;28;01mclass\u001b[39;00m \u001b[38;5;21;01mMyNNet\u001b[39;00m(nn\u001b[38;5;241m.\u001b[39mModule):\n\u001b[1;32m      2\u001b[0m     \u001b[38;5;28;01mdef\u001b[39;00m \u001b[38;5;21m__init__\u001b[39m(\u001b[38;5;28mself\u001b[39m,input_d,output_d,layer_s,dropout):\n\u001b[1;32m      3\u001b[0m         \u001b[38;5;28msuper\u001b[39m(MyNNet,\u001b[38;5;28mself\u001b[39m)\u001b[38;5;241m.\u001b[39m\u001b[38;5;21m__init__\u001b[39m()\n",
      "Cell \u001b[0;32mIn[69], line 15\u001b[0m, in \u001b[0;36mMyNNet\u001b[0;34m()\u001b[0m\n\u001b[1;32m     12\u001b[0m         output_tensor \u001b[38;5;241m=\u001b[39m \u001b[38;5;28mself\u001b[39m\u001b[38;5;241m.\u001b[39mmyn(input_tensor)\n\u001b[1;32m     14\u001b[0m         \u001b[38;5;28;01mreturn\u001b[39;00m output_tensor\n\u001b[0;32m---> 15\u001b[0m nn_pred \u001b[38;5;241m=\u001b[39m myneualnetwork(X_test_tensor)\n\u001b[1;32m     16\u001b[0m nn_pred \u001b[38;5;241m=\u001b[39m np\u001b[38;5;241m.\u001b[39margmax(nn_pred\u001b[38;5;241m.\u001b[39mdetach()\u001b[38;5;241m.\u001b[39mnumpy(),axis \u001b[38;5;241m=\u001b[39m \u001b[38;5;241m1\u001b[39m)\n\u001b[1;32m     17\u001b[0m metrics\u001b[38;5;241m.\u001b[39maccuracy_score(y_test,nn_pred)\n",
      "\u001b[0;31mNameError\u001b[0m: name 'myneualnetwork' is not defined"
     ]
    }
   ],
   "source": [
    "class MyNNet(nn.Module):\n",
    "    def __init__(self,input_d,output_d,layer_s,dropout):\n",
    "        super(MyNNet,self).__init__()\n",
    "        self.myn = nn.Sequential(\n",
    "            nn.Linear(input_d,layer_s[0]),\n",
    "            nn.Relu(),\n",
    "            nn.Dropout(dropout), \n",
    "            (10,20,[100,500,100],0.2)\n",
    "        )\n",
    "        \n",
    "        def forward(self,input_tensor):\n",
    "            output_tensor = self.myn(input_tensor)\n",
    "            \n",
    "            return output_tensor"
   ]
  },
  {
   "cell_type": "code",
   "execution_count": null,
   "metadata": {},
   "outputs": [],
   "source": []
  }
 ],
 "metadata": {
  "kernelspec": {
   "display_name": "Python 3 (ipykernel)",
   "language": "python",
   "name": "python3"
  },
  "language_info": {
   "codemirror_mode": {
    "name": "ipython",
    "version": 3
   },
   "file_extension": ".py",
   "mimetype": "text/x-python",
   "name": "python",
   "nbconvert_exporter": "python",
   "pygments_lexer": "ipython3",
   "version": "3.11.7"
  }
 },
 "nbformat": 4,
 "nbformat_minor": 4
}
